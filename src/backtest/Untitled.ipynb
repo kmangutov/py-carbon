{
 "cells": [
  {
   "cell_type": "code",
   "execution_count": 1,
   "metadata": {},
   "outputs": [
    {
     "name": "stdout",
     "output_type": "stream",
     "text": [
      "Collecting backtrader\n",
      "\u001b[?25l  Downloading https://files.pythonhosted.org/packages/1a/bf/78aadd993e2719d6764603465fde163ba6ec15cf0e81f13e39ca13451348/backtrader-1.9.76.123-py2.py3-none-any.whl (410kB)\n",
      "\u001b[K    100% |████████████████████████████████| 419kB 1.2MB/s ta 0:00:01\n",
      "\u001b[31mdistributed 1.21.8 requires msgpack, which is not installed.\u001b[0m\n",
      "\u001b[?25hInstalling collected packages: backtrader\n",
      "Successfully installed backtrader-1.9.76.123\n",
      "\u001b[33mYou are using pip version 10.0.1, however version 20.3.3 is available.\n",
      "You should consider upgrading via the 'pip install --upgrade pip' command.\u001b[0m\n"
     ]
    }
   ],
   "source": [
    "# import sys\n",
    "# !{sys.executable} -m pip install backtrader"
   ]
  },
  {
   "cell_type": "code",
   "execution_count": 1,
   "metadata": {},
   "outputs": [
    {
     "name": "stdout",
     "output_type": "stream",
     "text": [
      "2021-01-17 00:43:38\n",
      "{'volume': 43.536, 'datetime': datetime.datetime(2021, 1, 17, 0, 43, 38), 'high': 36270.45, 'low': 36222.49, 'close': 36258.49, 'open': 36270.45}\n",
      "2021-01-17 00:43:37\n",
      "{'volume': 43.518, 'datetime': datetime.datetime(2021, 1, 17, 0, 43, 37), 'high': 36270.45, 'low': 36222.49, 'close': 36258.49, 'open': 36270.45}\n",
      "2021-01-17 00:43:36\n",
      "{'volume': 43.511, 'datetime': datetime.datetime(2021, 1, 17, 0, 43, 36), 'high': 36270.45, 'low': 36222.49, 'close': 36259.77, 'open': 36270.45}\n",
      "2021-01-17 00:43:35\n",
      "{'volume': 43.21, 'datetime': datetime.datetime(2021, 1, 17, 0, 43, 35), 'high': 36270.45, 'low': 36222.49, 'close': 36264.33, 'open': 36270.45}\n",
      "2021-01-17 00:43:33\n",
      "{'volume': 40.116, 'datetime': datetime.datetime(2021, 1, 17, 0, 43, 33), 'high': 36270.45, 'low': 36222.49, 'close': 36265.48, 'open': 36270.45}\n",
      "2021-01-17 00:43:32\n",
      "{'volume': 39.952, 'datetime': datetime.datetime(2021, 1, 17, 0, 43, 32), 'high': 36270.45, 'low': 36222.49, 'close': 36265.48, 'open': 36270.45}\n",
      "2021-01-17 00:43:31\n",
      "{'volume': 36.197, 'datetime': datetime.datetime(2021, 1, 17, 0, 43, 31), 'high': 36270.45, 'low': 36222.49, 'close': 36258.46, 'open': 36270.45}\n",
      "2021-01-17 00:43:30\n",
      "{'volume': 34.791, 'datetime': datetime.datetime(2021, 1, 17, 0, 43, 30), 'high': 36270.45, 'low': 36222.49, 'close': 36254.3, 'open': 36270.45}\n",
      "2021-01-17 00:43:28\n",
      "{'volume': 31.144, 'datetime': datetime.datetime(2021, 1, 17, 0, 43, 28), 'high': 36270.45, 'low': 36222.49, 'close': 36256.15, 'open': 36270.45}\n",
      "2021-01-17 00:43:27\n",
      "{'volume': 31.09, 'datetime': datetime.datetime(2021, 1, 17, 0, 43, 27), 'high': 36270.45, 'low': 36222.49, 'close': 36256.14, 'open': 36270.45}\n",
      "2021-01-17 00:43:26\n",
      "{'volume': 30.237, 'datetime': datetime.datetime(2021, 1, 17, 0, 43, 26), 'high': 36270.45, 'low': 36222.49, 'close': 36256.14, 'open': 36270.45}\n",
      "2021-01-17 00:43:24\n",
      "{'volume': 28.728, 'datetime': datetime.datetime(2021, 1, 17, 0, 43, 24), 'high': 36270.45, 'low': 36222.49, 'close': 36256.14, 'open': 36270.45}\n",
      "2021-01-17 00:43:23\n",
      "{'volume': 28.628, 'datetime': datetime.datetime(2021, 1, 17, 0, 43, 23), 'high': 36270.45, 'low': 36222.49, 'close': 36260.0, 'open': 36270.45}\n",
      "2021-01-17 00:43:22\n",
      "{'volume': 28.197, 'datetime': datetime.datetime(2021, 1, 17, 0, 43, 22), 'high': 36270.45, 'low': 36222.49, 'close': 36260.37, 'open': 36270.45}\n",
      "2021-01-17 00:43:21\n",
      "{'volume': 27.323, 'datetime': datetime.datetime(2021, 1, 17, 0, 43, 21), 'high': 36270.45, 'low': 36222.49, 'close': 36261.95, 'open': 36270.45}\n",
      "2021-01-17 00:43:20\n",
      "{'volume': 26.321, 'datetime': datetime.datetime(2021, 1, 17, 0, 43, 20), 'high': 36270.45, 'low': 36222.49, 'close': 36259.53, 'open': 36270.45}\n",
      "2021-01-17 00:43:19\n",
      "{'volume': 26.246, 'datetime': datetime.datetime(2021, 1, 17, 0, 43, 19), 'high': 36270.45, 'low': 36222.49, 'close': 36260.0, 'open': 36270.45}\n",
      "2021-01-17 00:43:17\n",
      "{'volume': 24.832, 'datetime': datetime.datetime(2021, 1, 17, 0, 43, 17), 'high': 36270.45, 'low': 36222.49, 'close': 36260.47, 'open': 36270.45}\n",
      "2021-01-17 00:43:16\n",
      "{'volume': 24.389, 'datetime': datetime.datetime(2021, 1, 17, 0, 43, 16), 'high': 36270.45, 'low': 36222.49, 'close': 36260.47, 'open': 36270.45}\n",
      "2021-01-17 00:43:15\n",
      "{'volume': 24.332, 'datetime': datetime.datetime(2021, 1, 17, 0, 43, 15), 'high': 36270.45, 'low': 36222.49, 'close': 36260.48, 'open': 36270.45}\n",
      "2021-01-17 00:43:14\n",
      "{'volume': 19.254, 'datetime': datetime.datetime(2021, 1, 17, 0, 43, 14), 'high': 36270.45, 'low': 36222.49, 'close': 36256.14, 'open': 36270.45}\n",
      "2021-01-17 00:43:13\n",
      "{'volume': 16.826, 'datetime': datetime.datetime(2021, 1, 17, 0, 43, 13), 'high': 36270.45, 'low': 36222.49, 'close': 36250.0, 'open': 36270.45}\n",
      "2021-01-17 00:43:12\n",
      "{'volume': 16.362, 'datetime': datetime.datetime(2021, 1, 17, 0, 43, 12), 'high': 36270.45, 'low': 36222.49, 'close': 36254.58, 'open': 36270.45}\n",
      "2021-01-17 00:43:10\n",
      "{'volume': 14.604, 'datetime': datetime.datetime(2021, 1, 17, 0, 43, 10), 'high': 36270.45, 'low': 36222.49, 'close': 36260.48, 'open': 36270.45}\n",
      "                        close      high       low      open  volume\n",
      "datetime                                                           \n",
      "2021-01-17 00:43:38  36258.49  36270.45  36222.49  36270.45  43.536\n",
      "2021-01-17 00:43:37  36258.49  36270.45  36222.49  36270.45  43.518\n",
      "2021-01-17 00:43:36  36259.77  36270.45  36222.49  36270.45  43.511\n",
      "2021-01-17 00:43:35  36264.33  36270.45  36222.49  36270.45  43.210\n",
      "2021-01-17 00:43:33  36265.48  36270.45  36222.49  36270.45  40.116\n",
      "2021-01-17 00:43:32  36265.48  36270.45  36222.49  36270.45  39.952\n",
      "2021-01-17 00:43:31  36258.46  36270.45  36222.49  36270.45  36.197\n",
      "2021-01-17 00:43:30  36254.30  36270.45  36222.49  36270.45  34.791\n",
      "2021-01-17 00:43:28  36256.15  36270.45  36222.49  36270.45  31.144\n",
      "2021-01-17 00:43:27  36256.14  36270.45  36222.49  36270.45  31.090\n",
      "2021-01-17 00:43:26  36256.14  36270.45  36222.49  36270.45  30.237\n",
      "2021-01-17 00:43:24  36256.14  36270.45  36222.49  36270.45  28.728\n",
      "2021-01-17 00:43:23  36260.00  36270.45  36222.49  36270.45  28.628\n",
      "2021-01-17 00:43:22  36260.37  36270.45  36222.49  36270.45  28.197\n",
      "2021-01-17 00:43:21  36261.95  36270.45  36222.49  36270.45  27.323\n",
      "2021-01-17 00:43:20  36259.53  36270.45  36222.49  36270.45  26.321\n",
      "2021-01-17 00:43:19  36260.00  36270.45  36222.49  36270.45  26.246\n",
      "2021-01-17 00:43:17  36260.47  36270.45  36222.49  36270.45  24.832\n",
      "2021-01-17 00:43:16  36260.47  36270.45  36222.49  36270.45  24.389\n",
      "2021-01-17 00:43:15  36260.48  36270.45  36222.49  36270.45  24.332\n",
      "2021-01-17 00:43:14  36256.14  36270.45  36222.49  36270.45  19.254\n",
      "2021-01-17 00:43:13  36250.00  36270.45  36222.49  36270.45  16.826\n",
      "2021-01-17 00:43:12  36254.58  36270.45  36222.49  36270.45  16.362\n",
      "2021-01-17 00:43:10  36260.48  36270.45  36222.49  36270.45  14.604\n"
     ]
    }
   ],
   "source": [
    "from load_candles import sample_cerebro\n",
    "import backtrader as bt\n",
    "import backtrader.feeds as btfeed\n",
    "import matplotlib"
   ]
  },
  {
   "cell_type": "code",
   "execution_count": 2,
   "metadata": {},
   "outputs": [],
   "source": [
    "class SmaCross(bt.SignalStrategy):\n",
    "    params = (('pfast', 1), ('pslow', 3),)\n",
    "    def __init__(self):\n",
    "        sma1, sma2 = bt.ind.SMA(period=self.p.pfast), bt.ind.SMA(period=self.p.pslow)\n",
    "        self.signal_add(bt.SIGNAL_LONG, bt.ind.CrossOver(sma1, sma2))"
   ]
  },
  {
   "cell_type": "code",
   "execution_count": 2,
   "metadata": {
    "scrolled": false
   },
   "outputs": [
    {
     "name": "stdout",
     "output_type": "stream",
     "text": [
      "2021-01-17 00:43:38\n",
      "24\n",
      "{'volume': 43.536, 'datetime': datetime.datetime(2021, 1, 17, 0, 43, 38), 'high': 36270.45, 'low': 36222.49, 'close': 36258.49, 'open': 36270.45, 'id': 24}\n",
      "2021-01-17 00:43:37\n",
      "23\n",
      "{'volume': 43.518, 'datetime': datetime.datetime(2021, 1, 17, 0, 43, 37), 'high': 36270.45, 'low': 36222.49, 'close': 36258.49, 'open': 36270.45, 'id': 23}\n",
      "2021-01-17 00:43:36\n",
      "22\n",
      "{'volume': 43.511, 'datetime': datetime.datetime(2021, 1, 17, 0, 43, 36), 'high': 36270.45, 'low': 36222.49, 'close': 36259.77, 'open': 36270.45, 'id': 22}\n",
      "2021-01-17 00:43:35\n",
      "21\n",
      "{'volume': 43.21, 'datetime': datetime.datetime(2021, 1, 17, 0, 43, 35), 'high': 36270.45, 'low': 36222.49, 'close': 36264.33, 'open': 36270.45, 'id': 21}\n",
      "2021-01-17 00:43:33\n",
      "20\n",
      "{'volume': 40.116, 'datetime': datetime.datetime(2021, 1, 17, 0, 43, 33), 'high': 36270.45, 'low': 36222.49, 'close': 36265.48, 'open': 36270.45, 'id': 20}\n",
      "2021-01-17 00:43:32\n",
      "19\n",
      "{'volume': 39.952, 'datetime': datetime.datetime(2021, 1, 17, 0, 43, 32), 'high': 36270.45, 'low': 36222.49, 'close': 36265.48, 'open': 36270.45, 'id': 19}\n",
      "2021-01-17 00:43:31\n",
      "18\n",
      "{'volume': 36.197, 'datetime': datetime.datetime(2021, 1, 17, 0, 43, 31), 'high': 36270.45, 'low': 36222.49, 'close': 36258.46, 'open': 36270.45, 'id': 18}\n",
      "2021-01-17 00:43:30\n",
      "17\n",
      "{'volume': 34.791, 'datetime': datetime.datetime(2021, 1, 17, 0, 43, 30), 'high': 36270.45, 'low': 36222.49, 'close': 36254.3, 'open': 36270.45, 'id': 17}\n",
      "2021-01-17 00:43:28\n",
      "16\n",
      "{'volume': 31.144, 'datetime': datetime.datetime(2021, 1, 17, 0, 43, 28), 'high': 36270.45, 'low': 36222.49, 'close': 36256.15, 'open': 36270.45, 'id': 16}\n",
      "2021-01-17 00:43:27\n",
      "15\n",
      "{'volume': 31.09, 'datetime': datetime.datetime(2021, 1, 17, 0, 43, 27), 'high': 36270.45, 'low': 36222.49, 'close': 36256.14, 'open': 36270.45, 'id': 15}\n",
      "2021-01-17 00:43:26\n",
      "14\n",
      "{'volume': 30.237, 'datetime': datetime.datetime(2021, 1, 17, 0, 43, 26), 'high': 36270.45, 'low': 36222.49, 'close': 36256.14, 'open': 36270.45, 'id': 14}\n",
      "2021-01-17 00:43:24\n",
      "13\n",
      "{'volume': 28.728, 'datetime': datetime.datetime(2021, 1, 17, 0, 43, 24), 'high': 36270.45, 'low': 36222.49, 'close': 36256.14, 'open': 36270.45, 'id': 13}\n",
      "2021-01-17 00:43:23\n",
      "12\n",
      "{'volume': 28.628, 'datetime': datetime.datetime(2021, 1, 17, 0, 43, 23), 'high': 36270.45, 'low': 36222.49, 'close': 36260.0, 'open': 36270.45, 'id': 12}\n",
      "2021-01-17 00:43:22\n",
      "11\n",
      "{'volume': 28.197, 'datetime': datetime.datetime(2021, 1, 17, 0, 43, 22), 'high': 36270.45, 'low': 36222.49, 'close': 36260.37, 'open': 36270.45, 'id': 11}\n",
      "2021-01-17 00:43:21\n",
      "10\n",
      "{'volume': 27.323, 'datetime': datetime.datetime(2021, 1, 17, 0, 43, 21), 'high': 36270.45, 'low': 36222.49, 'close': 36261.95, 'open': 36270.45, 'id': 10}\n",
      "2021-01-17 00:43:20\n",
      "9\n",
      "{'volume': 26.321, 'datetime': datetime.datetime(2021, 1, 17, 0, 43, 20), 'high': 36270.45, 'low': 36222.49, 'close': 36259.53, 'open': 36270.45, 'id': 9}\n",
      "2021-01-17 00:43:19\n",
      "8\n",
      "{'volume': 26.246, 'datetime': datetime.datetime(2021, 1, 17, 0, 43, 19), 'high': 36270.45, 'low': 36222.49, 'close': 36260.0, 'open': 36270.45, 'id': 8}\n",
      "2021-01-17 00:43:17\n",
      "7\n",
      "{'volume': 24.832, 'datetime': datetime.datetime(2021, 1, 17, 0, 43, 17), 'high': 36270.45, 'low': 36222.49, 'close': 36260.47, 'open': 36270.45, 'id': 7}\n",
      "2021-01-17 00:43:16\n",
      "6\n",
      "{'volume': 24.389, 'datetime': datetime.datetime(2021, 1, 17, 0, 43, 16), 'high': 36270.45, 'low': 36222.49, 'close': 36260.47, 'open': 36270.45, 'id': 6}\n",
      "2021-01-17 00:43:15\n",
      "5\n",
      "{'volume': 24.332, 'datetime': datetime.datetime(2021, 1, 17, 0, 43, 15), 'high': 36270.45, 'low': 36222.49, 'close': 36260.48, 'open': 36270.45, 'id': 5}\n",
      "2021-01-17 00:43:14\n",
      "4\n",
      "{'volume': 19.254, 'datetime': datetime.datetime(2021, 1, 17, 0, 43, 14), 'high': 36270.45, 'low': 36222.49, 'close': 36256.14, 'open': 36270.45, 'id': 4}\n",
      "2021-01-17 00:43:13\n",
      "3\n",
      "{'volume': 16.826, 'datetime': datetime.datetime(2021, 1, 17, 0, 43, 13), 'high': 36270.45, 'low': 36222.49, 'close': 36250.0, 'open': 36270.45, 'id': 3}\n",
      "2021-01-17 00:43:12\n",
      "2\n",
      "{'volume': 16.362, 'datetime': datetime.datetime(2021, 1, 17, 0, 43, 12), 'high': 36270.45, 'low': 36222.49, 'close': 36254.58, 'open': 36270.45, 'id': 2}\n",
      "2021-01-17 00:43:10\n",
      "1\n",
      "{'volume': 14.604, 'datetime': datetime.datetime(2021, 1, 17, 0, 43, 10), 'high': 36270.45, 'low': 36222.49, 'close': 36260.48, 'open': 36270.45, 'id': 1}\n"
     ]
    },
    {
     "data": {
      "image/png": "[encoded data removed]",
      "text/plain": [
       "<Figure size 432x288 with 1 Axes>"
      ]
     },
     "metadata": {
      "needs_background": "light"
     },
     "output_type": "display_data"
    }
   ],
   "source": [
    "import pandas as pd\n",
    "from load_candles import sample_df\n",
    "data = sample_df()#cerebro()\n",
    "\n",
    "#data['unix'] = pd.to_datetime([data['id']]).astype(int) / 10**9\n",
    "\n",
    "import matplotlib.pyplot as plt\n",
    "data.plot(x='id', y='close')\n",
    "plt.show()\n",
    "\n",
    "#cerebro = bt.Cerebro()\n",
    "#cerebro.adddata(data)\n",
    "#cerebro.addstrategy(SmaCross, pfast=5, pslow=30)\n",
    "#cerebro.run()\n",
    "#cerebro.plot()"
   ]
  },
  {
   "cell_type": "code",
   "execution_count": null,
   "metadata": {},
   "outputs": [],
   "source": []
  },
  {
   "cell_type": "code",
   "execution_count": null,
   "metadata": {},
   "outputs": [],
   "source": []
  }
 ],
 "metadata": {
  "kernelspec": {
   "display_name": ".venv",
   "language": "python",
   "name": ".venv"
  },
  "language_info": {
   "codemirror_mode": {
    "name": "ipython",
    "version": 2
   },
   "file_extension": ".py",
   "mimetype": "text/x-python",
   "name": "python",
   "nbconvert_exporter": "python",
   "pygments_lexer": "ipython2",
   "version": "2.7.15"
  }
 },
 "nbformat": 4,
 "nbformat_minor": 2
}
